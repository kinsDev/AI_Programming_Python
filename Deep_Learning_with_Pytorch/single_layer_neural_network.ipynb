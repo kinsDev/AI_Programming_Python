{
 "cells": [
  {
   "cell_type": "markdown",
   "source": [
    "output(y) = activation_function(f)(w1x1 + b)"
   ],
   "metadata": {
    "collapsed": false
   },
   "id": "b73f3958a13d578d"
  },
  {
   "cell_type": "code",
   "outputs": [],
   "source": [
    "from safetensors import torch\n",
    "y = activation(torch.sum(features, weights) + bias)\n",
    "print(y)\n",
    "\n",
    "#matrix multiplication for tensors\n",
    "torch.mm(features, weights) # shape of weights and features need to be computable for the matrix\n",
    "\n",
    "3 options to choose when reshaping tensors\n",
    "weights.reshape(a, b)\n",
    "weights.resize_(a, b)\n",
    "weights.view(a, b) # the best one to use since it returns a new tensor with same data as weights without interfering with number of elements.\n"
   ],
   "metadata": {
    "collapsed": false
   },
   "id": "7014b73609c7e82c"
  },
  {
   "cell_type": "code",
   "outputs": [],
   "source": [
    "# Calculate the output of this single layer network using matrix multplication\n",
    "y = activation(torch.mm(features, weights.view(5, 1)) + bias)"
   ],
   "metadata": {
    "collapsed": false
   },
   "id": "c138922ef111bb55"
  }
 ],
 "metadata": {
  "kernelspec": {
   "display_name": "Python 3",
   "language": "python",
   "name": "python3"
  },
  "language_info": {
   "codemirror_mode": {
    "name": "ipython",
    "version": 2
   },
   "file_extension": ".py",
   "mimetype": "text/x-python",
   "name": "python",
   "nbconvert_exporter": "python",
   "pygments_lexer": "ipython2",
   "version": "2.7.6"
  }
 },
 "nbformat": 4,
 "nbformat_minor": 5
}
