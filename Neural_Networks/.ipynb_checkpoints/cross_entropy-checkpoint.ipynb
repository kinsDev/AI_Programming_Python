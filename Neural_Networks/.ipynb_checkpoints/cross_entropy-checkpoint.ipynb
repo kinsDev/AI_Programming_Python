{
 "cells": [
  {
   "cell_type": "code",
   "execution_count": null,
   "id": "6f367bd9-44b0-4c6c-b2b9-db4db182f614",
   "metadata": {},
   "outputs": [],
   "source": [
    "import numpy as py\n",
    "def cross_entropy(Y, P):\n",
    "    Y = float_(Y)\n",
    "    P = float_(P)\n",
    "\n",
    "return -np.sum(Y * np.log(P) + (1 - Y) * np.log(1 - P))"
   ]
  }
 ],
 "metadata": {
  "kernelspec": {
   "display_name": "Python 3 (ipykernel)",
   "language": "python",
   "name": "python3"
  },
  "language_info": {
   "codemirror_mode": {
    "name": "ipython",
    "version": 3
   },
   "file_extension": ".py",
   "mimetype": "text/x-python",
   "name": "python",
   "nbconvert_exporter": "python",
   "pygments_lexer": "ipython3",
   "version": "3.11.5"
  }
 },
 "nbformat": 4,
 "nbformat_minor": 5
}
