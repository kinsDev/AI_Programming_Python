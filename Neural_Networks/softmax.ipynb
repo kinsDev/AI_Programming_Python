{
 "cells": [
  {
   "cell_type": "code",
   "execution_count": 2,
   "id": "12b0f379-280d-421f-ae73-8ea157155075",
   "metadata": {},
   "outputs": [],
   "source": [
    "import numpy as np\n",
    "# create a function to display the softnax formula\n",
    "def softmax(L): # takes an input L\n",
    "\n",
    "# normally the softmax is exponential of list of numbers which are inputed\n",
    "# divided by sum of the exponential of list of numbers\n",
    "    exp_L = np.exp(L)\n",
    "    list_numbers = list(np.divide(exp_L, exp_L.sum()))\n",
    "    return list_numbers"
   ]
  },
  {
   "cell_type": "code",
   "execution_count": null,
   "id": "e3c1c559-cff3-46e7-9151-396b0307ed2b",
   "metadata": {},
   "outputs": [],
   "source": []
  }
 ],
 "metadata": {
  "kernelspec": {
   "display_name": "Python 3 (ipykernel)",
   "language": "python",
   "name": "python3"
  },
  "language_info": {
   "codemirror_mode": {
    "name": "ipython",
    "version": 3
   },
   "file_extension": ".py",
   "mimetype": "text/x-python",
   "name": "python",
   "nbconvert_exporter": "python",
   "pygments_lexer": "ipython3",
   "version": "3.11.5"
  }
 },
 "nbformat": 4,
 "nbformat_minor": 5
}
