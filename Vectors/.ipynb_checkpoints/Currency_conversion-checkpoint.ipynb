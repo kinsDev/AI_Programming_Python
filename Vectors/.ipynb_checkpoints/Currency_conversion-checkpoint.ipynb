{
 "cells": [
  {
   "cell_type": "markdown",
   "id": "809315cc-3c7e-437f-9ab0-878c67b4c8f2",
   "metadata": {},
   "source": [
    "# Coding the Currency Conversion Problem\n",
    "\n",
    "First you will need to create the inputs vector that holds the currency you have from the eight countries into a numpy vector. To begin, first import the NumPy package and then use the package to create a vector from a list. Next we convert the vector into a pandas dataframe so that it will print out nicely below with column labels to indicate the country the currency amount is associated to."
   ]
  },
  {
   "cell_type": "code",
   "execution_count": 4,
   "id": "feb21ebd-0ff6-4714-bbfe-7579c5e4d713",
   "metadata": {},
   "outputs": [
    {
     "name": "stdout",
     "output_type": "stream",
     "text": [
      "Input Vector:\n"
     ]
    },
    {
     "data": {
      "text/html": [
       "<div>\n",
       "<style scoped>\n",
       "    .dataframe tbody tr th:only-of-type {\n",
       "        vertical-align: middle;\n",
       "    }\n",
       "\n",
       "    .dataframe tbody tr th {\n",
       "        vertical-align: top;\n",
       "    }\n",
       "\n",
       "    .dataframe thead th {\n",
       "        text-align: right;\n",
       "    }\n",
       "</style>\n",
       "<table border=\"1\" class=\"dataframe\">\n",
       "  <thead>\n",
       "    <tr style=\"text-align: right;\">\n",
       "      <th></th>\n",
       "      <th>Amounts</th>\n",
       "    </tr>\n",
       "  </thead>\n",
       "  <tbody>\n",
       "    <tr>\n",
       "      <th>USD</th>\n",
       "      <td>70</td>\n",
       "    </tr>\n",
       "    <tr>\n",
       "      <th>EUR</th>\n",
       "      <td>100</td>\n",
       "    </tr>\n",
       "    <tr>\n",
       "      <th>JPY</th>\n",
       "      <td>20</td>\n",
       "    </tr>\n",
       "    <tr>\n",
       "      <th>GBP</th>\n",
       "      <td>80</td>\n",
       "    </tr>\n",
       "    <tr>\n",
       "      <th>CHF</th>\n",
       "      <td>40</td>\n",
       "    </tr>\n",
       "    <tr>\n",
       "      <th>CAD</th>\n",
       "      <td>70</td>\n",
       "    </tr>\n",
       "    <tr>\n",
       "      <th>AUD</th>\n",
       "      <td>60</td>\n",
       "    </tr>\n",
       "    <tr>\n",
       "      <th>HKD</th>\n",
       "      <td>100</td>\n",
       "    </tr>\n",
       "  </tbody>\n",
       "</table>\n",
       "</div>"
      ],
      "text/plain": [
       "     Amounts\n",
       "USD       70\n",
       "EUR      100\n",
       "JPY       20\n",
       "GBP       80\n",
       "CHF       40\n",
       "CAD       70\n",
       "AUD       60\n",
       "HKD      100"
      ]
     },
     "execution_count": 4,
     "metadata": {},
     "output_type": "execute_result"
    }
   ],
   "source": [
    "import numpy as np\n",
    "import pandas as pd\n",
    "\n",
    "# money inputs from those countries, goes to a comversion rate a matrix and is outputed as total money\n",
    "\n",
    "# Create numpy vector from a list to represent money (inputs) vector.\n",
    "money = np.asarray([70, 100, 20, 80, 40, 70, 60, 100])\n",
    "\n",
    "# Creates pandas dataframe with column labels(currency_label) from the numpy vector for printing.\n",
    "currency_label = [\"USD\", \"EUR\", \"JPY\", \"GBP\", \"CHF\", \"CAD\", \"AUD\", \"HKD\"]\n",
    "money_df = pd.DataFrame(data = money, index = currency_label, columns = [\"Amounts\"])\n",
    "print(\"Input Vector:\")\n",
    "money_df"
   ]
  },
  {
   "cell_type": "markdown",
   "id": "0c1868ae",
   "metadata": {},
   "source": [
    "Next we need to create the weights matrix by importing the currency conversion rates matrix. We will use python package Pandas to quickly read in the matrix and approriately assign row and column labels. Additionally, we define a variable path to define the location of the currency conversion matrix. The code below imports this weights matrix, converts the dataframe into a numpy matrix, and displays its content to help you determine how to solve the problem using matrix multiplication."
   ]
  },
  {
   "cell_type": "code",
   "execution_count": null,
   "id": "40a168e0-614d-4217-992c-25cc1e4d55ec",
   "metadata": {},
   "outputs": [],
   "source": [
    "# Sets path variable to the 'path' of the CSV file that contains the conversion rates(weights) matrix.\n",
    "path = %pwd\n",
    "\n",
    "# Imports conversion rates(weights) matrix as a pandas dataframe.\n",
    "conversion_rates_df = pd.read_csv(path+\"/currencyConversionMatrix.csv\",header=0,index_col=0)\n",
    "\n",
    "# Creates numpy matrix from a pandas dataframe to create the conversion rates(weights) matrix.\n",
    "conversion_rates = conversion_rates_df.values\n",
    "# conversion_rates\n",
    "\n",
    "# Prints conversion rates matrix.\n",
    "print(\"Weights Matrix:\")\n",
    "conversion_rates_df"
   ]
  }
 ],
 "metadata": {
  "kernelspec": {
   "display_name": "Python 3 (ipykernel)",
   "language": "python",
   "name": "python3"
  },
  "language_info": {
   "codemirror_mode": {
    "name": "ipython",
    "version": 3
   },
   "file_extension": ".py",
   "mimetype": "text/x-python",
   "name": "python",
   "nbconvert_exporter": "python",
   "pygments_lexer": "ipython3",
   "version": "3.11.5"
  }
 },
 "nbformat": 4,
 "nbformat_minor": 5
}
