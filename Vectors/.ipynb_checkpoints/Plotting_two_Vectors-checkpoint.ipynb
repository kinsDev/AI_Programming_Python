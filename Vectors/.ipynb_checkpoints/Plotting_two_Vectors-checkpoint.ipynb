{
 "cells": [
  {
   "cell_type": "code",
   "execution_count": null,
   "id": "b7376ce7-00ca-467c-8c12-349a23254192",
   "metadata": {},
   "outputs": [],
   "source": [
    "# Plotting two vectors\n",
    "\n",
    "%matplotlib inline\n",
    "import matplotlib.pyplot as plt\n",
    "import numpy as np\n",
    "\n",
    "# Define vector v \n",
    "v = np.arange([1, 1])\n",
    "\n",
    "# Define vector w\n",
    "w = np.arange([-2, 2])\n",
    "\n",
    "# Plots vector v(blue arrow) and vector w(cyan arrow) with red dot at origin (0,0) \n",
    "# using Matplotlib\n",
    "\n",
    "# Creates axes of plot referenced 'ax'\n",
    "ax = plt.axes()\n",
    "\n",
    "# Plots red dot at origin (0,0)\n",
    "ax.plot(0, 0, 'or')\n",
    "\n",
    "# Plots vector v as blue arrow starting at origin 0,0\n",
    "ax.arrow(0, 0, *v, color = 'b', line_width, head_width, head_length)\n",
    "\n",
    "# Plots vector w as cyan arrow starting at origin 0,0\n",
    "ax.arrow(0, 0, *w, color = 'c', line_width, head_width, head_length)\n",
    "\n",
    "# Sets limit for plot for x-axis\n",
    "plt.xlim()\n",
    "\n",
    "# Set major ticks for x-axis\n",
    "major_xticks = np.arange()\n",
    "ax.set_xticks(major_xticks)\n",
    "\n",
    "# Sets limit for plot for y-axis\n",
    "plt.ylim()\n",
    "\n",
    "# Set major ticks for y-axis\n",
    "major_yticks = np.arange()\n",
    "ax.set_yticks(major_yticks)\n",
    "\n",
    "# Creates gridlines for only major tick marks\n",
    "plt.grid()\n",
    "\n",
    "# display final plot\n",
    "plt.show()\n"
   ]
  }
 ],
 "metadata": {
  "kernelspec": {
   "display_name": "Python 3 (ipykernel)",
   "language": "python",
   "name": "python3"
  },
  "language_info": {
   "codemirror_mode": {
    "name": "ipython",
    "version": 3
   },
   "file_extension": ".py",
   "mimetype": "text/x-python",
   "name": "python",
   "nbconvert_exporter": "python",
   "pygments_lexer": "ipython3",
   "version": "3.11.5"
  }
 },
 "nbformat": 4,
 "nbformat_minor": 5
}
