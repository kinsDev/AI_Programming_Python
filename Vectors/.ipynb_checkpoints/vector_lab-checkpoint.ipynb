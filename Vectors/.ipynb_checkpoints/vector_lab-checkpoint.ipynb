{
 "cells": [
  {
   "cell_type": "code",
   "execution_count": 23,
   "id": "14c24941-dbc8-41f9-9067-7d4a9cb9d5df",
   "metadata": {},
   "outputs": [
    {
     "data": {
      "image/png": "[encoded data removed]",
      "text/plain": [
       "<Figure size 640x480 with 1 Axes>"
      ]
     },
     "metadata": {},
     "output_type": "display_data"
    }
   ],
   "source": [
    "# Plotting a Vector in 2D\n",
    "import numpy as np\n",
    "import matplotlib.pyplot as plt\n",
    "%matplotlib inline\n",
    "\n",
    "#define vector v\n",
    "v = np.array([1, 1])\n",
    "\n",
    "# plot vector V as blue arrow with a red dot at origin(0, 0) using matplotlib\n",
    "\n",
    "# create axes of plot\n",
    "ax = plt.axes()\n",
    "\n",
    "# plot red dot at origin\n",
    "ax.plot(0, 0, 'or')\n",
    "\n",
    "# Plots vector v as blue arrow starting at origin 0,0\n",
    "ax.arrow(0, 0, *v, color = 'b', linewidth = 2.0, head_width = 0.2, head_length = 0.25)\n",
    "\n",
    "# Sets limit for plot for x-axis\n",
    "plt.xlim(-2, 2)\n",
    "\n",
    "# set major ticks for x-axis\n",
    "major_xticks = np.arange(-2, 3)\n",
    "ax.set_xticks(major_xticks)\n",
    "\n",
    "# sets limits for plot of y-axis\n",
    "plt.ylim(-1, 2)\n",
    "\n",
    "# set major ticks for y-axis\n",
    "major_yticks = np.arange(-1, 3)\n",
    "ax.set_yticks(major_yticks)\n",
    "\n",
    "# Create grid marks\n",
    "plt.grid()\n",
    "\n",
    "# Display final plot\n",
    "plt.show()"
   ]
  },
  {
   "cell_type": "code",
   "execution_count": null,
   "id": "6eef5468-c208-49a4-ad0b-8d6703439b22",
   "metadata": {},
   "outputs": [],
   "source": []
  }
 ],
 "metadata": {
  "kernelspec": {
   "display_name": "Python 3 (ipykernel)",
   "language": "python",
   "name": "python3"
  },
  "language_info": {
   "codemirror_mode": {
    "name": "ipython",
    "version": 3
   },
   "file_extension": ".py",
   "mimetype": "text/x-python",
   "name": "python",
   "nbconvert_exporter": "python",
   "pygments_lexer": "ipython3",
   "version": "3.11.5"
  }
 },
 "nbformat": 4,
 "nbformat_minor": 5
}
